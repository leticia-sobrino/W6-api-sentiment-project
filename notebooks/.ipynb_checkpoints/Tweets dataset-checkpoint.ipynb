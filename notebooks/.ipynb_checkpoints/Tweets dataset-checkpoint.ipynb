{
 "cells": [
  {
   "cell_type": "markdown",
   "metadata": {},
   "source": [
    "# Introdución"
   ]
  },
  {
   "cell_type": "code",
   "execution_count": 1,
   "metadata": {},
   "outputs": [],
   "source": [
    "import pandas as pd"
   ]
  },
  {
   "cell_type": "markdown",
   "metadata": {},
   "source": [
    "##### 1. Importamos el dataset de donde vamos a sacar la informacion"
   ]
  },
  {
   "cell_type": "code",
   "execution_count": 2,
   "metadata": {},
   "outputs": [
    {
     "data": {
      "text/html": [
       "<div>\n",
       "<style scoped>\n",
       "    .dataframe tbody tr th:only-of-type {\n",
       "        vertical-align: middle;\n",
       "    }\n",
       "\n",
       "    .dataframe tbody tr th {\n",
       "        vertical-align: top;\n",
       "    }\n",
       "\n",
       "    .dataframe thead th {\n",
       "        text-align: right;\n",
       "    }\n",
       "</style>\n",
       "<table border=\"1\" class=\"dataframe\">\n",
       "  <thead>\n",
       "    <tr style=\"text-align: right;\">\n",
       "      <th></th>\n",
       "      <th>0</th>\n",
       "    </tr>\n",
       "  </thead>\n",
       "  <tbody>\n",
       "    <tr>\n",
       "      <th>0</th>\n",
       "      <td>id;link;content;date;retweets;favorites;mentio...</td>\n",
       "    </tr>\n",
       "    <tr>\n",
       "      <th>1</th>\n",
       "      <td>1698308935;https://twitter.com/realDonaldTrump...</td>\n",
       "    </tr>\n",
       "    <tr>\n",
       "      <th>2</th>\n",
       "      <td>1701461182;https://twitter.com/realDonaldTrump...</td>\n",
       "    </tr>\n",
       "    <tr>\n",
       "      <th>3</th>\n",
       "      <td>1737479987;https://twitter.com/realDonaldTrump...</td>\n",
       "    </tr>\n",
       "    <tr>\n",
       "      <th>4</th>\n",
       "      <td>1741160716;https://twitter.com/realDonaldTrump...</td>\n",
       "    </tr>\n",
       "  </tbody>\n",
       "</table>\n",
       "</div>"
      ],
      "text/plain": [
       "                                                   0\n",
       "0  id;link;content;date;retweets;favorites;mentio...\n",
       "1  1698308935;https://twitter.com/realDonaldTrump...\n",
       "2  1701461182;https://twitter.com/realDonaldTrump...\n",
       "3  1737479987;https://twitter.com/realDonaldTrump...\n",
       "4  1741160716;https://twitter.com/realDonaldTrump..."
      ]
     },
     "execution_count": 2,
     "metadata": {},
     "output_type": "execute_result"
    }
   ],
   "source": [
    "file = open(\"../data/realdonaldtrump.csv\", encoding=\"utf8\")\n",
    "data = pd.DataFrame(file)\n",
    "data.head()"
   ]
  },
  {
   "cell_type": "markdown",
   "metadata": {},
   "source": [
    "##### 2. Optenemos un dataset final y limpio\n",
    "    - Separamos columnas\n",
    "    - Renombramos columnas\n",
    "    - Eliminamos primera fila\n",
    "    - Eliminamos las columnas que no nos sirvan \n",
    "    - NOS QUEDAMOS CON NUESTRO ULTIMO DF --> TWEETS"
   ]
  },
  {
   "cell_type": "code",
   "execution_count": 3,
   "metadata": {},
   "outputs": [
    {
     "data": {
      "text/plain": [
       "'id;link;content;date;retweets;favorites;mentions;hashtags\\n'"
      ]
     },
     "execution_count": 3,
     "metadata": {},
     "output_type": "execute_result"
    }
   ],
   "source": [
    "data[0][0]"
   ]
  },
  {
   "cell_type": "code",
   "execution_count": 4,
   "metadata": {
    "scrolled": true
   },
   "outputs": [],
   "source": [
    "data1 = data[0].str.split(';', expand=True)"
   ]
  },
  {
   "cell_type": "code",
   "execution_count": 5,
   "metadata": {},
   "outputs": [],
   "source": [
    "data1.rename(columns={0 : 'id', 1: 'link', 2: 'content', 3: 'date', 4: 'retweets', 5: 'favorites', 6: 'mentions', 7: 'hashtags'}, inplace=True)"
   ]
  },
  {
   "cell_type": "code",
   "execution_count": 6,
   "metadata": {},
   "outputs": [],
   "source": [
    "data2 = data1.drop([0],axis=0)"
   ]
  },
  {
   "cell_type": "code",
   "execution_count": 121,
   "metadata": {},
   "outputs": [
    {
     "data": {
      "text/html": [
       "<div>\n",
       "<style scoped>\n",
       "    .dataframe tbody tr th:only-of-type {\n",
       "        vertical-align: middle;\n",
       "    }\n",
       "\n",
       "    .dataframe tbody tr th {\n",
       "        vertical-align: top;\n",
       "    }\n",
       "\n",
       "    .dataframe thead th {\n",
       "        text-align: right;\n",
       "    }\n",
       "</style>\n",
       "<table border=\"1\" class=\"dataframe\">\n",
       "  <thead>\n",
       "    <tr style=\"text-align: right;\">\n",
       "      <th></th>\n",
       "      <th>content</th>\n",
       "      <th>date</th>\n",
       "      <th>retweets</th>\n",
       "      <th>favorites</th>\n",
       "    </tr>\n",
       "  </thead>\n",
       "  <tbody>\n",
       "    <tr>\n",
       "      <th>1</th>\n",
       "      <td>Be sure to tune in and watch Donald Trump on L...</td>\n",
       "      <td>04/05/2009 0:00</td>\n",
       "      <td>510</td>\n",
       "      <td>917</td>\n",
       "    </tr>\n",
       "    <tr>\n",
       "      <th>2</th>\n",
       "      <td>Donald Trump will be appearing on The View tom...</td>\n",
       "      <td>04/05/2009 0:00</td>\n",
       "      <td>34</td>\n",
       "      <td>267</td>\n",
       "    </tr>\n",
       "    <tr>\n",
       "      <th>3</th>\n",
       "      <td>Donald Trump reads Top Ten Financial Tips on L...</td>\n",
       "      <td>08/05/2009 0:00</td>\n",
       "      <td>13</td>\n",
       "      <td>19</td>\n",
       "    </tr>\n",
       "    <tr>\n",
       "      <th>4</th>\n",
       "      <td>New Blog Post: Celebrity Apprentice Finale and...</td>\n",
       "      <td>08/05/2009 0:00</td>\n",
       "      <td>11</td>\n",
       "      <td>26</td>\n",
       "    </tr>\n",
       "    <tr>\n",
       "      <th>5</th>\n",
       "      <td>\"\"\"My persona will never be that of a wallflow...</td>\n",
       "      <td>12/05/2009 0:00</td>\n",
       "      <td>1375</td>\n",
       "      <td>1945</td>\n",
       "    </tr>\n",
       "  </tbody>\n",
       "</table>\n",
       "</div>"
      ],
      "text/plain": [
       "                                             content             date  \\\n",
       "1  Be sure to tune in and watch Donald Trump on L...  04/05/2009 0:00   \n",
       "2  Donald Trump will be appearing on The View tom...  04/05/2009 0:00   \n",
       "3  Donald Trump reads Top Ten Financial Tips on L...  08/05/2009 0:00   \n",
       "4  New Blog Post: Celebrity Apprentice Finale and...  08/05/2009 0:00   \n",
       "5  \"\"\"My persona will never be that of a wallflow...  12/05/2009 0:00   \n",
       "\n",
       "  retweets favorites  \n",
       "1      510       917  \n",
       "2       34       267  \n",
       "3       13        19  \n",
       "4       11        26  \n",
       "5     1375      1945  "
      ]
     },
     "execution_count": 121,
     "metadata": {},
     "output_type": "execute_result"
    }
   ],
   "source": [
    "tweets0 = data2.drop(['id', 'link', 'mentions', 'hashtags'], axis = 1)\n",
    "tweets0.head()"
   ]
  },
  {
   "cell_type": "code",
   "execution_count": 122,
   "metadata": {
    "scrolled": true
   },
   "outputs": [
    {
     "data": {
      "text/html": [
       "<div>\n",
       "<style scoped>\n",
       "    .dataframe tbody tr th:only-of-type {\n",
       "        vertical-align: middle;\n",
       "    }\n",
       "\n",
       "    .dataframe tbody tr th {\n",
       "        vertical-align: top;\n",
       "    }\n",
       "\n",
       "    .dataframe thead th {\n",
       "        text-align: right;\n",
       "    }\n",
       "</style>\n",
       "<table border=\"1\" class=\"dataframe\">\n",
       "  <thead>\n",
       "    <tr style=\"text-align: right;\">\n",
       "      <th></th>\n",
       "      <th>year</th>\n",
       "    </tr>\n",
       "  </thead>\n",
       "  <tbody>\n",
       "    <tr>\n",
       "      <th>1</th>\n",
       "      <td>2009</td>\n",
       "    </tr>\n",
       "    <tr>\n",
       "      <th>2</th>\n",
       "      <td>2009</td>\n",
       "    </tr>\n",
       "    <tr>\n",
       "      <th>3</th>\n",
       "      <td>2009</td>\n",
       "    </tr>\n",
       "    <tr>\n",
       "      <th>4</th>\n",
       "      <td>2009</td>\n",
       "    </tr>\n",
       "    <tr>\n",
       "      <th>5</th>\n",
       "      <td>2009</td>\n",
       "    </tr>\n",
       "  </tbody>\n",
       "</table>\n",
       "</div>"
      ],
      "text/plain": [
       "   year\n",
       "1  2009\n",
       "2  2009\n",
       "3  2009\n",
       "4  2009\n",
       "5  2009"
      ]
     },
     "execution_count": 122,
     "metadata": {},
     "output_type": "execute_result"
    }
   ],
   "source": [
    "year = tweets0.date.apply(lambda x: str(x) [6:10])\n",
    "df = pd.DataFrame(year)\n",
    "df2 = df.rename(columns={'date': 'year'})\n",
    "df2.head()"
   ]
  },
  {
   "cell_type": "code",
   "execution_count": 129,
   "metadata": {},
   "outputs": [
    {
     "data": {
      "text/html": [
       "<div>\n",
       "<style scoped>\n",
       "    .dataframe tbody tr th:only-of-type {\n",
       "        vertical-align: middle;\n",
       "    }\n",
       "\n",
       "    .dataframe tbody tr th {\n",
       "        vertical-align: top;\n",
       "    }\n",
       "\n",
       "    .dataframe thead th {\n",
       "        text-align: right;\n",
       "    }\n",
       "</style>\n",
       "<table border=\"1\" class=\"dataframe\">\n",
       "  <thead>\n",
       "    <tr style=\"text-align: right;\">\n",
       "      <th></th>\n",
       "      <th>content</th>\n",
       "      <th>date</th>\n",
       "      <th>retweets</th>\n",
       "      <th>favorites</th>\n",
       "      <th>year</th>\n",
       "    </tr>\n",
       "  </thead>\n",
       "  <tbody>\n",
       "    <tr>\n",
       "      <th>1</th>\n",
       "      <td>Be sure to tune in and watch Donald Trump on L...</td>\n",
       "      <td>04/05/2009 0:00</td>\n",
       "      <td>510</td>\n",
       "      <td>917</td>\n",
       "      <td>2009</td>\n",
       "    </tr>\n",
       "    <tr>\n",
       "      <th>2</th>\n",
       "      <td>Donald Trump will be appearing on The View tom...</td>\n",
       "      <td>04/05/2009 0:00</td>\n",
       "      <td>34</td>\n",
       "      <td>267</td>\n",
       "      <td>2009</td>\n",
       "    </tr>\n",
       "    <tr>\n",
       "      <th>3</th>\n",
       "      <td>Donald Trump reads Top Ten Financial Tips on L...</td>\n",
       "      <td>08/05/2009 0:00</td>\n",
       "      <td>13</td>\n",
       "      <td>19</td>\n",
       "      <td>2009</td>\n",
       "    </tr>\n",
       "    <tr>\n",
       "      <th>4</th>\n",
       "      <td>New Blog Post: Celebrity Apprentice Finale and...</td>\n",
       "      <td>08/05/2009 0:00</td>\n",
       "      <td>11</td>\n",
       "      <td>26</td>\n",
       "      <td>2009</td>\n",
       "    </tr>\n",
       "    <tr>\n",
       "      <th>5</th>\n",
       "      <td>\"\"\"My persona will never be that of a wallflow...</td>\n",
       "      <td>12/05/2009 0:00</td>\n",
       "      <td>1375</td>\n",
       "      <td>1945</td>\n",
       "      <td>2009</td>\n",
       "    </tr>\n",
       "  </tbody>\n",
       "</table>\n",
       "</div>"
      ],
      "text/plain": [
       "                                             content             date  \\\n",
       "1  Be sure to tune in and watch Donald Trump on L...  04/05/2009 0:00   \n",
       "2  Donald Trump will be appearing on The View tom...  04/05/2009 0:00   \n",
       "3  Donald Trump reads Top Ten Financial Tips on L...  08/05/2009 0:00   \n",
       "4  New Blog Post: Celebrity Apprentice Finale and...  08/05/2009 0:00   \n",
       "5  \"\"\"My persona will never be that of a wallflow...  12/05/2009 0:00   \n",
       "\n",
       "  retweets favorites  year  \n",
       "1      510       917  2009  \n",
       "2       34       267  2009  \n",
       "3       13        19  2009  \n",
       "4       11        26  2009  \n",
       "5     1375      1945  2009  "
      ]
     },
     "execution_count": 129,
     "metadata": {},
     "output_type": "execute_result"
    }
   ],
   "source": [
    "tweets = pd.concat([tweets0, df2], axis=1).copy()\n",
    "tweets.head()"
   ]
  },
  {
   "cell_type": "code",
   "execution_count": 130,
   "metadata": {},
   "outputs": [
    {
     "data": {
      "text/plain": [
       "content      0\n",
       "date         0\n",
       "retweets     0\n",
       "favorites    0\n",
       "year         0\n",
       "dtype: int64"
      ]
     },
     "execution_count": 130,
     "metadata": {},
     "output_type": "execute_result"
    }
   ],
   "source": [
    "# Ademas comprobamos que no hay ningun valor nulo\n",
    "tweets.isnull().sum()"
   ]
  },
  {
   "cell_type": "code",
   "execution_count": 131,
   "metadata": {},
   "outputs": [],
   "source": [
    "# guardamos para importar luego\n",
    "tweets.to_csv('tweets.csv')"
   ]
  },
  {
   "cell_type": "code",
   "execution_count": 132,
   "metadata": {},
   "outputs": [],
   "source": [
    "# Convierto el csv a un json y lo importo a mongo\n",
    "tweets.to_json(\"../data/script_hp_json\", orient=\"records\")"
   ]
  },
  {
   "cell_type": "markdown",
   "metadata": {},
   "source": [
    "##### 3. Conexion con Mongo"
   ]
  },
  {
   "cell_type": "code",
   "execution_count": 53,
   "metadata": {},
   "outputs": [],
   "source": [
    "from pymongo import MongoClient\n",
    "client = MongoClient(\"localhost:27017\")"
   ]
  },
  {
   "cell_type": "code",
   "execution_count": 54,
   "metadata": {},
   "outputs": [],
   "source": [
    "db = client.get_database(\"HP\")"
   ]
  },
  {
   "cell_type": "code",
   "execution_count": 55,
   "metadata": {},
   "outputs": [],
   "source": [
    "collection = db.get_collection(\"tweets\")"
   ]
  },
  {
   "cell_type": "code",
   "execution_count": 56,
   "metadata": {},
   "outputs": [
    {
     "data": {
      "text/plain": [
       "{'_id': ObjectId('5fc406826248df5174d9d4c6'),\n",
       " '': '1',\n",
       " 'content': 'Be sure to tune in and watch Donald Trump on Late Night with David Letterman as he presents the Top Ten List tonight!',\n",
       " 'date': datetime.datetime(2009, 4, 4, 22, 0),\n",
       " 'retweets': 510,\n",
       " 'favorites': 917}"
      ]
     },
     "execution_count": 56,
     "metadata": {},
     "output_type": "execute_result"
    }
   ],
   "source": [
    "collection.find_one({})"
   ]
  },
  {
   "cell_type": "markdown",
   "metadata": {},
   "source": [
    "#### 1ª quary \n",
    "* Queremos que nos devuelva el nº de retweets que tiene cada tweet, así vamos a poder analizar la influencia social y mediante redes sociales que existe en la politica estadunidense \n"
   ]
  },
  {
   "cell_type": "code",
   "execution_count": 69,
   "metadata": {},
   "outputs": [
    {
     "data": {
      "text/plain": [
       "[{'content': 'A$AP Rocky released from prison and on his way home to the United States from Sweden. It was a Rocky Week, get home ASAP A$AP!',\n",
       "  'date': datetime.datetime(2019, 2, 7, 23, 0),\n",
       "  'retweets': 232085},\n",
       " {'content': '\"Why would Kim Jong-un insult me by calling me \"\"old,\"\" when I would NEVER call him \"\"short and fat?\"\" Oh well, I try so hard to be his friend - and maybe someday that will happen!\"',\n",
       "  'date': datetime.datetime(2017, 11, 10, 23, 0),\n",
       "  'retweets': 223661},\n",
       " {'content': '# FraudNewsCNN # FNNpic.twitter.com/WYUnHjjUjg',\n",
       "  'date': datetime.datetime(2017, 2, 6, 23, 0),\n",
       "  'retweets': 302269},\n",
       " {'content': 'TODAY WE MAKE AMERICA GREAT AGAIN!',\n",
       "  'date': datetime.datetime(2016, 8, 10, 22, 0),\n",
       "  'retweets': 289872},\n",
       " {'content': 'Are you allowed to impeach a president for gross incompetence?',\n",
       "  'date': datetime.datetime(2014, 4, 5, 22, 0),\n",
       "  'retweets': 242667},\n",
       " {'content': 'Be prepared, there is a small chance that our horrendous leadership could unknowingly lead us into World War III.',\n",
       "  'date': datetime.datetime(1970, 1, 1, 0, 0),\n",
       "  'retweets': 216536},\n",
       " {'content': 'The United States of America will be designating ANTIFA as a Terrorist Organization.',\n",
       "  'date': datetime.datetime(1970, 1, 1, 0, 0),\n",
       "  'retweets': 224890}]"
      ]
     },
     "execution_count": 69,
     "metadata": {},
     "output_type": "execute_result"
    }
   ],
   "source": [
    "retweets = collection.find({'retweets':{\"$gt\": 200000}}, {\"content\": 1, \"retweets\": 1, \"date\":1, \"_id\" : 0}).sort(\"date\", -1)\n",
    "list(retweets)"
   ]
  },
  {
   "cell_type": "markdown",
   "metadata": {},
   "source": [
    "##### 2ª quary\n",
    "* Vamos a querer que nos devuelva el numero de favoritos que tiene cada tweet \n",
    "* Con esta informacion tambien vamos a poder observar la importancia que tienen las redes sociales en nuestra vida \n",
    "* En Instagram por ejmplo, cuantos más likes tengas más influencia, mejor eres, más popular.... este ejemplo más cercano lo podemos comparar con los favoritos de twitter, que cuantos más tengas... más razon tienes.. y esto hay que valorarlo ya que no siempre es asi, de ahi la importancia de este enpoint para ver la importacia de los favoritos de cada tweet"
   ]
  },
  {
   "cell_type": "code",
   "execution_count": 74,
   "metadata": {},
   "outputs": [
    {
     "data": {
      "text/plain": [
       "[{'content': 'A$AP Rocky released from prison and on his way home to the United States from Sweden. It was a Rocky Week, get home ASAP A$AP!',\n",
       "  'favorites': 835575},\n",
       " {'content': 'The United States of America will be designating ANTIFA as a Terrorist Organization.',\n",
       "  'favorites': 828937}]"
      ]
     },
     "execution_count": 74,
     "metadata": {},
     "output_type": "execute_result"
    }
   ],
   "source": [
    "retweets = collection.find({'favorites':{\"$gt\": 800000}}, {\"content\": 1, \"favorites\": 1, \"_id\" : 0})\n",
    "list(retweets)"
   ]
  },
  {
   "cell_type": "markdown",
   "metadata": {},
   "source": [
    "#### 3º quary\n",
    "* Queremos poder sacar todos los tweets por año"
   ]
  },
  {
   "cell_type": "code",
   "execution_count": 134,
   "metadata": {},
   "outputs": [
    {
     "data": {
      "text/plain": [
       "[{'content': 'Best equipment & finest military in the World. On site quickly!https://twitter.com/heatherjones333/status/1212475089133944832 …',\n",
       "  'year': '2020'},\n",
       " {'content': 'Too bad, Corey would have won! He (and I) loves New Hampshire.https://twitter.com/dmartosko/status/1212042598732439554 …',\n",
       "  'year': '2020'},\n",
       " {'content': 'Can’t believe @ ATT keeps the management after yet another @ CNN ratings dive. Nobody watching, NO CREDIBILITY! Maybe they should make changes at AT&T?https://twitter.com/heatherjones333/status/1212376966873206786 …',\n",
       "  'year': '2020'},\n",
       " {'content': 'Great job!https://twitter.com/TrumpWarRoom/status/1212391791774838784 …',\n",
       "  'year': '2020'},\n",
       " {'content': 'They don’t know how to do that!https://twitter.com/GeraldoRivera/status/1212402251806990336 …',\n",
       "  'year': '2020'},\n",
       " {'content': 'Sohrab Ahmari, New York Post “The Trump Campaign raised $10 million in the two days following the impeachment (Scam) vote. It seems the Democrats have shot themselves in the foot in one more way. They set up a process they know is not going to lead to the Presidents removal, &...',\n",
       "  'year': '2020'},\n",
       " {'content': '....it’s alienating independents. This President is being persecuted over three years with one investigation after another, and that really plays to his base.” @ FoxNews @ cvpayne Their partisan Witch Hunt is hurting our Country do badly, & only bringing more division than ever!',\n",
       "  'year': '2020'},\n",
       " {'content': 'A lot of very good people were taken down by a small group of Dirty (Filthy) Cops, politicians, government officials, and an investigation that was illegally started & that SPIED on my campaign. The Witch Hunt is sputtering badly, but still going on (Ukraine Hoax!). If this....',\n",
       "  'year': '2020'},\n",
       " {'content': '....had happened to a Presidential candidate, or President, who was a Democrat, everybody involved would long ago be in jail for treason (and more), and it would be considered the CRIME OF THE CENTURY, far bigger and more sinister than Watergate!',\n",
       "  'year': '2020'},\n",
       " {'content': 'pic.twitter.com/VXeKiVzpTf', 'year': '2020'},\n",
       " {'content': 'Iran never won a war, but never lost a negotiation!',\n",
       "  'year': '2020'},\n",
       " {'content': 'General Qassem Soleimani has killed or badly wounded thousands of Americans over an extended period of time, and was plotting to kill many more...but got caught! He was directly and indirectly responsible for the death of millions of people, including the recent large number....',\n",
       "  'year': '2020'},\n",
       " {'content': '....of PROTESTERS killed in Iran itself. While Iran will never be able to properly admit it, Soleimani was both hated and feared within the country. They are not nearly as saddened as the leaders will let the outside world believe. He should have been taken out many years ago!',\n",
       "  'year': '2020'},\n",
       " {'content': 'The United States has paid Iraq Billions of Dollars a year, for many years. That is on top of all else we have done for them. The people of Iraq don’t want to be dominated & controlled by Iran, but ultimately, that is their choice. Over the last 15 years, Iran has gained more....',\n",
       "  'year': '2020'},\n",
       " {'content': '....and more control over Iraq, and the people of Iraq are not happy with that. It will never end well!',\n",
       "  'year': '2020'},\n",
       " {'content': 'This is a great book, a must read!https://twitter.com/nedryun/status/1205122585274523648 …',\n",
       "  'year': '2020'},\n",
       " {'content': 'Christopher Bedford, The Federalist Senior Editor. “There is NOTHING NEW in these Emails at all that’s been discovered. It’s exactly what we knew before, which is that the White House & political figures wanted to cut off aid, Trump wanted to question aid to a number of....',\n",
       "  'year': '2020'},\n",
       " {'content': '....different places that he thought were wasteful, and the career staff, as they always do, pushed back, and made a million excuses as to why they could not possibly stop spending U.S. taxpayer money. There was a back & forth over the legal arguments, & the W.H. decision was....',\n",
       "  'year': '2020'},\n",
       " {'content': '....followed, and then it was withdrawn. The Democrats argument for impeachment has not gotten stronger over the last few weeks. As Senator Josh Hawley just said, he’s going to enter a Motion to Dismiss the Impeachment Trial because it’s never actually been brought to trial.”',\n",
       "  'year': '2020'},\n",
       " {'content': 'pic.twitter.com/qOi7mpKcHY', 'year': '2020'}]"
      ]
     },
     "execution_count": 134,
     "metadata": {},
     "output_type": "execute_result"
    }
   ],
   "source": [
    "year = collection.find({'year':{\"$gt\": \"2019\"}}, {\"content\": 1, \"year\": 1, \"_id\" : 0}).limit(20)\n",
    "list(year)"
   ]
  }
 ],
 "metadata": {
  "kernelspec": {
   "display_name": "Python 3",
   "language": "python",
   "name": "python3"
  },
  "language_info": {
   "codemirror_mode": {
    "name": "ipython",
    "version": 3
   },
   "file_extension": ".py",
   "mimetype": "text/x-python",
   "name": "python",
   "nbconvert_exporter": "python",
   "pygments_lexer": "ipython3",
   "version": "3.8.3"
  }
 },
 "nbformat": 4,
 "nbformat_minor": 4
}
